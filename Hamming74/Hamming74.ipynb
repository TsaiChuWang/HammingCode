{
 "cells": [
  {
   "cell_type": "code",
   "execution_count": 1,
   "metadata": {},
   "outputs": [],
   "source": [
    "import cv2\n",
    "import numpy as np"
   ]
  },
  {
   "attachments": {},
   "cell_type": "markdown",
   "metadata": {},
   "source": [
    "### 取得圖像"
   ]
  },
  {
   "cell_type": "code",
   "execution_count": 3,
   "metadata": {},
   "outputs": [
    {
     "name": "stdout",
     "output_type": "stream",
     "text": [
      "height: 480\n",
      "width: 640\n"
     ]
    }
   ],
   "source": [
    "image = cv2.imread(\"../images/lennaGrayScaleCrop.jpg\",0)\n",
    "height = image.shape[0]\n",
    "width = image.shape[1]\n",
    "print(\"height: \"+str(height))\n",
    "print(\"width: \"+str(width))"
   ]
  },
  {
   "attachments": {},
   "cell_type": "markdown",
   "metadata": {},
   "source": [
    "### 獲取要隱藏的訊息\n",
    "\n",
    "1. 逐字讀取原始訊息\n",
    "2. 轉換為ascii碼\n",
    "3. ascii碼轉換為二進制(0bxxxxxxx)的字串\n",
    "4. replace()替換0b為空\n",
    "5. 七位數二進制填充為八位數"
   ]
  },
  {
   "cell_type": "code",
   "execution_count": 4,
   "metadata": {},
   "outputs": [],
   "source": [
    "codewords = [[0 for j in range(width)] for i in range(height)]\n",
    "received = [[0 for j in range(width)] for i in range(height)]"
   ]
  },
  {
   "cell_type": "code",
   "execution_count": 5,
   "metadata": {},
   "outputs": [],
   "source": [
    "def bitstouint(bits):\n",
    "    uint = 0\n",
    "    for bit in bits:\n",
    "        uint = (uint <<1) | bit\n",
    "    return uint"
   ]
  },
  {
   "cell_type": "code",
   "execution_count": 6,
   "metadata": {},
   "outputs": [],
   "source": [
    "def encodeHamming(msg,n,k) :\n",
    "    m = n - k\n",
    "    encoded = []\n",
    "    r = 0 #rth redundant bit\n",
    "    \n",
    "    #set up codeword loop\n",
    "    for i in range(1, n+1):\n",
    "        if i == 2 ** r :\n",
    "            encoded.append(0)\n",
    "            r += 1\n",
    "        else :\n",
    "            encoded.append(int(msg[i-r-1]))\n",
    "\n",
    "    #set paritybit values\n",
    "    rval = 0\n",
    "    for i in range(m) :\n",
    "        rval = 2 ** i\n",
    "        count1 = 0\n",
    "        for j in range(1,n+1) :\n",
    "            if ((j & (1 << i)) & rval == rval and encoded[j-1] ==1):\n",
    "                count1 += 1\n",
    "            if (count1 % 2 == 1) :\n",
    "                encoded[rval-1] = 1\n",
    "    return encoded"
   ]
  },
  {
   "cell_type": "code",
   "execution_count": 7,
   "metadata": {},
   "outputs": [],
   "source": [
    "for i in range(height):\n",
    " for j in range(width):\n",
    "   codewords[i][j] =encodeHamming(format(image[i][j],'08b'), 12,8)"
   ]
  },
  {
   "cell_type": "code",
   "execution_count": 8,
   "metadata": {},
   "outputs": [],
   "source": [
    "def Hamming(encoded):\n",
    "    error = 0\n",
    "    idx = 1\n",
    "    for i in encoded :\n",
    "        if (i==1) :\n",
    "            error = error ^ idx\n",
    "        idx += 1\n",
    "    if (error > 0 and error < idx) :\n",
    "        encoded[error-1] = int(not encoded[error-1])\n",
    "    r = 0\n",
    "    bits = []\n",
    "    for i in range(1,len(encoded)+1):\n",
    "        if (i == 2 ** r) :\n",
    "            r += 1\n",
    "        else :\n",
    "            bits.append(encoded[i-1])\n",
    "    return bits"
   ]
  },
  {
   "cell_type": "code",
   "execution_count": 9,
   "metadata": {},
   "outputs": [
    {
     "data": {
      "text/plain": [
       "True"
      ]
     },
     "execution_count": 9,
     "metadata": {},
     "output_type": "execute_result"
    }
   ],
   "source": [
    "#read and correct every pixel\n",
    "for i in range(height):\n",
    "    for j in range(width):\n",
    "        received[i][j] = bitstouint(Hamming(codewords[i][j]))\n",
    "received = np.array(received,dtype=np.uint8)\n",
    "cv2.imwrite(\"../images/LennaAfterHamming74.jpg\", received)"
   ]
  },
  {
   "cell_type": "code",
   "execution_count": 10,
   "metadata": {},
   "outputs": [],
   "source": [
    "def Generators (n, k):\n",
    "    m = n-k\n",
    "    G = [[0 for j in range(n)] for i in range(k)]\n",
    "    H = [[0 for j in range(n)] for i in range(m)]\n",
    "    for i in range (k):\n",
    "        G[i][i] = 1\n",
    "    for i in range (m):\n",
    "        H[i][k+i] = 1\n",
    "    r = 0\n",
    "    for i in range (1,n+1):\n",
    "        if i == 2**r :\n",
    "            r += 1\n",
    "        else :\n",
    "            bin = format(i,'0'+str(m)+ 'b')\n",
    "            for j in range(1,m+1):\n",
    "                G[i-r-1][k+j-1] = int(bin[-j])\n",
    "                H[j-1][i-r-1] = int(bin[-j])\n",
    "    return G, H"
   ]
  },
  {
   "cell_type": "code",
   "execution_count": 11,
   "metadata": {},
   "outputs": [],
   "source": [
    "def encodeHammingM(msg,G):\n",
    "    k = len(G)\n",
    "    n = len(G[0])\n",
    "    codeword = [0 for i in range(n)]\n",
    "\n",
    "    #Matrix Xor Multiplication\n",
    "    for i in range(n):\n",
    "        for j in range(k):\n",
    "            codeword[i] = codeword[i] ^ (int(msg[j]) & G[j][i])\n",
    "    return codeword"
   ]
  },
  {
   "cell_type": "code",
   "execution_count": 12,
   "metadata": {},
   "outputs": [],
   "source": [
    "def decodeHammingM(codeword, H):\n",
    "    n = len(codeword)\n",
    "    m = len(H)\n",
    "    syndrome = [0 for i in range(m)]\n",
    "\n",
    "    #Matrix Xor multiplication\n",
    "    for i in range(m):\n",
    "        for j in range(n):\n",
    "            syndrome[i] = syndrome[i] ^ (H[i][j] & int(codeword[j]) )\n",
    "\n",
    "    #Check any syndrome columns (error correction)\n",
    "    for column in range(n):\n",
    "        allsame = True\n",
    "        for row in range(m):\n",
    "            if (H[row][column] != syndrome[row]) :\n",
    "                allsame = False\n",
    "        if allsame :\n",
    "            codeword[column] = int(not codeword[column])\n",
    "            break\n",
    "    return codeword"
   ]
  }
 ],
 "metadata": {
  "kernelspec": {
   "display_name": "Python 3",
   "language": "python",
   "name": "python3"
  },
  "language_info": {
   "codemirror_mode": {
    "name": "ipython",
    "version": 3
   },
   "file_extension": ".py",
   "mimetype": "text/x-python",
   "name": "python",
   "nbconvert_exporter": "python",
   "pygments_lexer": "ipython3",
   "version": "3.11.2"
  },
  "orig_nbformat": 4
 },
 "nbformat": 4,
 "nbformat_minor": 2
}
