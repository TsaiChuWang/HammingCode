{
 "cells": [
  {
   "cell_type": "code",
   "execution_count": 23,
   "metadata": {},
   "outputs": [],
   "source": [
    "import cv2\n",
    "import numpy as np\n",
    "import csv\n",
    "import os"
   ]
  },
  {
   "cell_type": "code",
   "execution_count": 3,
   "metadata": {},
   "outputs": [],
   "source": [
    "def bitstouint(bits):\n",
    "    uint = 0\n",
    "    for bit in bits:\n",
    "        uint = (uint <<1) | bit\n",
    "    return uint"
   ]
  },
  {
   "cell_type": "code",
   "execution_count": 6,
   "metadata": {},
   "outputs": [],
   "source": [
    "def encodeHamming(msg,n,k) :\n",
    "    m = n - k\n",
    "    encoded = []\n",
    "    r = 0 #rth redundant bit\n",
    "    \n",
    "    #set up codeword loop\n",
    "    for i in range(1, n+1):\n",
    "        if i == 2 ** r :\n",
    "            encoded.append(0)\n",
    "            r += 1\n",
    "        else :\n",
    "            encoded.append(int(msg[i-r-1]))\n",
    "\n",
    "    #set paritybit values\n",
    "    rval = 0\n",
    "    for i in range(m) :\n",
    "        rval = 2 ** i\n",
    "        count1 = 0\n",
    "        for j in range(1,n+1) :\n",
    "            if ((j & (1 << i)) & rval == rval and encoded[j-1] ==1):\n",
    "                count1 += 1\n",
    "            if (count1 % 2 == 1) :\n",
    "                encoded[rval-1] = 1\n",
    "    return encoded"
   ]
  },
  {
   "cell_type": "code",
   "execution_count": 8,
   "metadata": {},
   "outputs": [],
   "source": [
    "def Hamming(encoded):\n",
    "    error = 0\n",
    "    idx = 1\n",
    "    for i in encoded :\n",
    "        if (i==1) :\n",
    "            error = error ^ idx\n",
    "        idx += 1\n",
    "    if (error > 0 and error < idx) :\n",
    "        encoded[error-1] = int(not encoded[error-1])\n",
    "    r = 0\n",
    "    bits = []\n",
    "    for i in range(1,len(encoded)+1):\n",
    "        if (i == 2 ** r) :\n",
    "            r += 1\n",
    "        else :\n",
    "            bits.append(encoded[i-1])\n",
    "    return bits"
   ]
  },
  {
   "cell_type": "code",
   "execution_count": 9,
   "metadata": {},
   "outputs": [],
   "source": [
    "def Generators (n, k):\n",
    "    m = n-k\n",
    "    G = [[0 for j in range(n)] for i in range(k)]\n",
    "    H = [[0 for j in range(n)] for i in range(m)]\n",
    "    for i in range (k):\n",
    "        G[i][i] = 1\n",
    "    for i in range (m):\n",
    "        H[i][k+i] = 1\n",
    "    r = 0\n",
    "    for i in range (1,n+1):\n",
    "        if i == 2**r :\n",
    "            r += 1\n",
    "        else :\n",
    "            bin = format(i,'0'+str(m)+ 'b')\n",
    "            for j in range(1,m+1):\n",
    "                G[i-r-1][k+j-1] = int(bin[-j])\n",
    "                H[j-1][i-r-1] = int(bin[-j])\n",
    "    return G, H"
   ]
  },
  {
   "cell_type": "code",
   "execution_count": 10,
   "metadata": {},
   "outputs": [],
   "source": [
    "def encodeHammingM(msg,G):\n",
    "    k = len(G)\n",
    "    n = len(G[0])\n",
    "    codeword = [0 for i in range(n)]\n",
    "\n",
    "    #Matrix Xor Multiplication\n",
    "    for i in range(n):\n",
    "        for j in range(k):\n",
    "            codeword[i] = codeword[i] ^ (int(msg[j]) & G[j][i])\n",
    "    return codeword"
   ]
  },
  {
   "cell_type": "code",
   "execution_count": 11,
   "metadata": {},
   "outputs": [],
   "source": [
    "def decodeHammingM(codeword, H):\n",
    "    n = len(codeword)\n",
    "    m = len(H)\n",
    "    syndrome = [0 for i in range(m)]\n",
    "\n",
    "    #Matrix Xor multiplication\n",
    "    for i in range(m):\n",
    "        for j in range(n):\n",
    "            syndrome[i] = syndrome[i] ^ (H[i][j] & int(codeword[j]) )\n",
    "\n",
    "    #Check any syndrome columns (error correction)\n",
    "    for column in range(n):\n",
    "        allsame = True\n",
    "        for row in range(m):\n",
    "            if (H[row][column] != syndrome[row]) :\n",
    "                allsame = False\n",
    "        if allsame :\n",
    "            codeword[column] = int(not codeword[column])\n",
    "            break\n",
    "    return codeword"
   ]
  },
  {
   "cell_type": "code",
   "execution_count": 14,
   "metadata": {},
   "outputs": [],
   "source": [
    "def hxx(x, y):\n",
    "    size = x.shape[-1]\n",
    "    px = np.histogram(x, 256, (0, 255))[0] / size\n",
    "    py = np.histogram(y, 256, (0, 255))[0] / size\n",
    "    hx = - np.sum(px * np.log(px + 1e-8))\n",
    "    hy = - np.sum(py * np.log(py + 1e-8))\n",
    " \n",
    "    hxy = np.histogram2d(x, y, 256, [[0, 255], [0, 255]])[0]\n",
    "    hxy /= (1.0 * size)\n",
    "    hxy = - np.sum(hxy * np.log(hxy + 1e-8))\n",
    " \n",
    "    r = hx + hy - hxy\n",
    "    return r"
   ]
  },
  {
   "cell_type": "code",
   "execution_count": 15,
   "metadata": {},
   "outputs": [],
   "source": [
    "# 計算 psnr\n",
    "def psnr(originImage,hidedImage):\n",
    "   diffrence = originImage-hidedImage\n",
    "   mse = np.mean(np.square(diffrence))\n",
    "   psnr = 10 * np.log10(255 * 255 / mse)\n",
    "   return(psnr)"
   ]
  },
  {
   "cell_type": "markdown",
   "metadata": {},
   "source": []
  },
  {
   "cell_type": "code",
   "execution_count": 17,
   "metadata": {},
   "outputs": [],
   "source": [
    "def Hamming74Single(imageSrc,saveSrc,prt):\n",
    "    image = cv2.imread(imageSrc,0)\n",
    "    height = image.shape[0]\n",
    "    width = image.shape[1]\n",
    "    if(prt):\n",
    "        print(\"height: \"+str(height))\n",
    "        print(\"width: \"+str(width))\n",
    "\n",
    "    codewords = [[0 for j in range(width)] for i in range(height)]\n",
    "    received = [[0 for j in range(width)] for i in range(height)]\n",
    "\n",
    "    for i in range(height):\n",
    "        for j in range(width):\n",
    "            codewords[i][j] =encodeHamming(format(image[i][j],'08b'), 12,8)\n",
    "\n",
    "    for i in range(height):\n",
    "        for j in range(width):\n",
    "            received[i][j] = bitstouint(Hamming(codewords[i][j]))\n",
    "    received = np.array(received,dtype=np.uint8)\n",
    "    cv2.imwrite(saveSrc, received)\n",
    "\n",
    "    HammingImage = cv2.imread(saveSrc)\n",
    "    HammingImage = cv2.cvtColor(HammingImage,cv2.COLOR_BGR2GRAY) \n",
    "    grayscaleImage = cv2.imread(imageSrc)\n",
    "    grayscaleImage = cv2.cvtColor(grayscaleImage,cv2.COLOR_BGR2GRAY) \n",
    "\n",
    "    if(prt):\n",
    "        print('PSNR: '+str(psnr(grayscaleImage,HammingImage)))\n",
    "\n",
    "    x = np.reshape(grayscaleImage, -1)\n",
    "    y = np.reshape(HammingImage, -1)\n",
    "    \n",
    "    if(prt):\n",
    "        print(\"相對熵= \"+str(hxx(x, y)))\n",
    "\n",
    "    return psnr(grayscaleImage,HammingImage),hxx(x, y)"
   ]
  },
  {
   "cell_type": "code",
   "execution_count": 18,
   "metadata": {},
   "outputs": [
    {
     "name": "stdout",
     "output_type": "stream",
     "text": [
      "height: 480\n",
      "width: 640\n",
      "PSNR: 37.726545783838155\n",
      "相對熵= 2.1722847693969767\n"
     ]
    },
    {
     "data": {
      "text/plain": [
       "(37.726545783838155, 2.1722847693969767)"
      ]
     },
     "execution_count": 18,
     "metadata": {},
     "output_type": "execute_result"
    }
   ],
   "source": [
    "Hamming74Single(\"../images/lennaGrayScaleCrop.jpg\",\"../images/LennaAfterHamming74.jpg\",True)"
   ]
  },
  {
   "cell_type": "code",
   "execution_count": 19,
   "metadata": {},
   "outputs": [
    {
     "data": {
      "text/plain": [
       "(37.726545783838155, 2.1722847693969767)"
      ]
     },
     "execution_count": 19,
     "metadata": {},
     "output_type": "execute_result"
    }
   ],
   "source": [
    "Hamming74Single(\"../images/lennaGrayScaleCrop.jpg\",\"../images/LennaAfterHamming74.jpg\",False)"
   ]
  },
  {
   "cell_type": "markdown",
   "metadata": {},
   "source": []
  },
  {
   "cell_type": "code",
   "execution_count": 27,
   "metadata": {},
   "outputs": [],
   "source": [
    "def writeCSV(array,fileName):\n",
    "    with open(fileName, 'w', newline='') as csvfile:\n",
    "        # 以空白分隔欄位，建立 CSV 檔寫入器\n",
    "        writer = csv.writer(csvfile, delimiter=',')\n",
    "\n",
    "        writer.writerow(['Hamming74'])\n",
    "        for number in array:\n",
    "            writer.writerow([number])\n",
    "    csvfile.close()"
   ]
  },
  {
   "cell_type": "code",
   "execution_count": 26,
   "metadata": {},
   "outputs": [
    {
     "name": "stdout",
     "output_type": "stream",
     "text": [
      "照片數量: 100\n"
     ]
    }
   ],
   "source": [
    "imageNamePath = '../database/resizeImageData.txt'\n",
    "imageNameArray=[]\n",
    "imageLength=0\n",
    "file = open(imageNamePath, 'r')\n",
    "for name in file.readlines():\n",
    "    imageNameArray.append('../database'+name[1:-1])\n",
    "file.close()\n",
    "imageLength=len(imageNameArray)\n",
    "print(\"照片數量: \"+str(imageLength))"
   ]
  },
  {
   "cell_type": "code",
   "execution_count": 29,
   "metadata": {},
   "outputs": [],
   "source": [
    "def Hamming74Multiple(imageNameArray,prt):\n",
    "    psnrArray=[]\n",
    "    hxxArray=[]\n",
    "    #取得圖片陣列\n",
    "    for index,imageName in enumerate(imageNameArray):\n",
    "        psnr,hxx=Hamming74Single(imageName,\"../database/\"+str(index+1)+'Hamming74.jpg',prt)\n",
    "        psnrArray.append(psnr)\n",
    "        hxxArray.append(hxx)\n",
    "    writeCSV(psnrArray,'./PSNR.csv')\n",
    "    writeCSV(hxxArray,'./hxx.csv')"
   ]
  },
  {
   "cell_type": "code",
   "execution_count": 30,
   "metadata": {},
   "outputs": [],
   "source": [
    "Hamming74Multiple(imageNameArray,False)"
   ]
  }
 ],
 "metadata": {
  "kernelspec": {
   "display_name": "Python 3",
   "language": "python",
   "name": "python3"
  },
  "language_info": {
   "codemirror_mode": {
    "name": "ipython",
    "version": 3
   },
   "file_extension": ".py",
   "mimetype": "text/x-python",
   "name": "python",
   "nbconvert_exporter": "python",
   "pygments_lexer": "ipython3",
   "version": "3.11.2"
  },
  "orig_nbformat": 4
 },
 "nbformat": 4,
 "nbformat_minor": 2
}
