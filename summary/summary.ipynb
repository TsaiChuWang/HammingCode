{
 "cells": [
  {
   "cell_type": "code",
   "execution_count": 1,
   "metadata": {},
   "outputs": [],
   "source": [
    "import csv"
   ]
  },
  {
   "cell_type": "code",
   "execution_count": 2,
   "metadata": {},
   "outputs": [],
   "source": [
    "title=['LSB','(7,4)Hamming Code','PRDHHC','Paper']\n",
    "csvpath=['../LSB/','../Hamming74/','../PRDHHC/','../Paper/']"
   ]
  },
  {
   "cell_type": "code",
   "execution_count": 3,
   "metadata": {},
   "outputs": [],
   "source": [
    "def getData(csvPath):\n",
    "    data=[]\n",
    "    with open(csvPath, 'r') as csvfile:\n",
    "        csvreader = csv.reader(csvfile)\n",
    "        for index,row in enumerate(csvreader):\n",
    "            if(index!=0):\n",
    "                data.append(float(row[0]))\n",
    "    print(\"Length of \"+csvPath+'= '+str(len(data)))\n",
    "    return data"
   ]
  },
  {
   "cell_type": "code",
   "execution_count": 4,
   "metadata": {},
   "outputs": [
    {
     "name": "stdout",
     "output_type": "stream",
     "text": [
      "Length of ../LSB/PSNR.csv= 100\n",
      "Length of ../LSB/hxx.csv= 100\n",
      "Length of ../Hamming74/PSNR.csv= 100\n",
      "Length of ../Hamming74/hxx.csv= 100\n",
      "Length of ../PRDHHC/PSNR.csv= 100\n",
      "Length of ../PRDHHC/hxx.csv= 100\n",
      "Length of ../Paper/PSNR.csv= 100\n",
      "Length of ../Paper/hxx.csv= 100\n"
     ]
    }
   ],
   "source": [
    "PSNRdata=[]\n",
    "hxxdata=[]\n",
    "for path in csvpath:\n",
    "    PSNRdata.append(getData(path+'PSNR.csv'))\n",
    "    hxxdata.append(getData(path+'hxx.csv'))"
   ]
  },
  {
   "cell_type": "code",
   "execution_count": 5,
   "metadata": {},
   "outputs": [],
   "source": [
    "def writeCSV(array,fileName):\n",
    "    with open(fileName, 'w', newline='') as csvfile:\n",
    "        # 以空白分隔欄位，建立 CSV 檔寫入器\n",
    "        writer = csv.writer(csvfile, delimiter=',')\n",
    "\n",
    "        writer.writerow(['Hamming74'])\n",
    "        for number in array:\n",
    "            writer.writerow([number])\n",
    "    csvfile.close()"
   ]
  },
  {
   "cell_type": "code",
   "execution_count": 6,
   "metadata": {},
   "outputs": [],
   "source": [
    "PSNRcsvdata=[]\n",
    "for index in range(len(PSNRdata[0])):\n",
    "    PSNRcsvdata.append([PSNRdata[ind][index] for ind in range(4)])\n",
    "\n",
    "with open('./PSNR.csv', 'w', newline='') as csvfile:\n",
    "    writer = csv.writer(csvfile, delimiter=',')\n",
    "    writer.writerow(title)\n",
    "    for row in PSNRcsvdata:\n",
    "        writer.writerow(row)\n",
    "    csvfile.close()"
   ]
  },
  {
   "cell_type": "code",
   "execution_count": 7,
   "metadata": {},
   "outputs": [],
   "source": [
    "hxxcsvdata=[]\n",
    "for index in range(len(hxxdata[0])):\n",
    "    hxxcsvdata.append([hxxdata[ind][index] for ind in range(4)])\n",
    "\n",
    "with open('./hxx.csv', 'w', newline='') as csvfile:\n",
    "    writer = csv.writer(csvfile, delimiter=',')\n",
    "    writer.writerow(title)\n",
    "    for row in hxxcsvdata:\n",
    "        writer.writerow(row)\n",
    "    csvfile.close() "
   ]
  },
  {
   "cell_type": "code",
   "execution_count": 8,
   "metadata": {},
   "outputs": [
    {
     "name": "stdout",
     "output_type": "stream",
     "text": [
      "Length of ../LSB/PSNR.csv= 100\n",
      "Length of ../LSB/hxx.csv= 100\n",
      "Length of ../Hamming74/PSNR.csv= 100\n",
      "Length of ../Hamming74/hxx.csv= 100\n",
      "Length of ../PRDHHC/PSNR.csv= 100\n",
      "Length of ../PRDHHC/hxx.csv= 100\n",
      "Length of ../Paper/PSNR.csv= 100\n",
      "Length of ../Paper/hxx.csv= 100\n"
     ]
    }
   ],
   "source": [
    "PSNRdata=[]\n",
    "hxxdata=[]\n",
    "for path in csvpath:\n",
    "    PSNRdata.append(getData(path+'PSNR.csv'))\n",
    "    hxxdata.append(getData(path+'hxx.csv'))"
   ]
  },
  {
   "cell_type": "code",
   "execution_count": 11,
   "metadata": {},
   "outputs": [],
   "source": [
    "def calculatePSNRAverage(index):\n",
    "    data=PSNRdata[index]\n",
    "    # sum=sum(data)\n",
    "    average=sum(data)/(len(data))\n",
    "    print(\"Average of \"+title[index]+' PSNR= '+str(average))"
   ]
  },
  {
   "cell_type": "code",
   "execution_count": 12,
   "metadata": {},
   "outputs": [
    {
     "name": "stdout",
     "output_type": "stream",
     "text": [
      "Average of LSB PSNR= 37.14331795895329\n",
      "Average of (7,4)Hamming Code PSNR= 34.674054195376634\n",
      "Average of PRDHHC PSNR= 52.40568420892516\n",
      "Average of Paper PSNR= 52.77444250771156\n"
     ]
    }
   ],
   "source": [
    "for index in range(4):\n",
    "    calculatePSNRAverage(index)"
   ]
  },
  {
   "cell_type": "code",
   "execution_count": 13,
   "metadata": {},
   "outputs": [],
   "source": [
    "def calculateHXXAverage(index):\n",
    "    data=hxxdata[index]\n",
    "    # sum=sum(data)\n",
    "    average=sum(data)/(len(data))\n",
    "    print(\"Average of \"+title[index]+' kl= '+str(average))"
   ]
  },
  {
   "cell_type": "code",
   "execution_count": 14,
   "metadata": {},
   "outputs": [
    {
     "name": "stdout",
     "output_type": "stream",
     "text": [
      "Average of LSB kl= 2.5550949851512104\n",
      "Average of (7,4)Hamming Code kl= 2.9879284258419276\n",
      "Average of PRDHHC kl= 4.015409238165419\n",
      "Average of Paper kl= 4.0510196194994466\n"
     ]
    }
   ],
   "source": [
    "for index in range(4):\n",
    "    calculateHXXAverage(index)"
   ]
  }
 ],
 "metadata": {
  "kernelspec": {
   "display_name": "Python 3",
   "language": "python",
   "name": "python3"
  },
  "language_info": {
   "codemirror_mode": {
    "name": "ipython",
    "version": 3
   },
   "file_extension": ".py",
   "mimetype": "text/x-python",
   "name": "python",
   "nbconvert_exporter": "python",
   "pygments_lexer": "ipython3",
   "version": "3.11.2"
  },
  "orig_nbformat": 4
 },
 "nbformat": 4,
 "nbformat_minor": 2
}
