{
 "cells": [
  {
   "cell_type": "code",
   "execution_count": 1,
   "metadata": {},
   "outputs": [],
   "source": [
    "import os\n",
    "import cv2"
   ]
  },
  {
   "attachments": {},
   "cell_type": "markdown",
   "metadata": {},
   "source": [
    "## 讀取影像資料並且儲存"
   ]
  },
  {
   "cell_type": "code",
   "execution_count": 2,
   "metadata": {},
   "outputs": [],
   "source": [
    "imageNameArray=[]\n",
    "imageArray=[]\n",
    "imageArrayLength=0\n",
    "dirName='./originImage'\n",
    "\n",
    "originFileName='./originImageData.txt'\n",
    "originFile = open(originFileName, 'w')\n",
    "\n",
    "for imageName in os.listdir(dirName): #獲取檔案路徑\n",
    "    print(str(dirName+'/'+imageName),file=originFile)\n",
    "    imageNameArray.append(str(dirName+'/'+imageName))\n",
    "    imageArray.append(cv2.imread(dirName+'/'+imageName)) #儲存影像資料\n",
    "imageArrayLength=len(imageArray)\n",
    "originFile.close()"
   ]
  },
  {
   "attachments": {},
   "cell_type": "markdown",
   "metadata": {},
   "source": [
    "# 轉換成灰階並儲存"
   ]
  },
  {
   "cell_type": "code",
   "execution_count": 3,
   "metadata": {},
   "outputs": [],
   "source": [
    "imageGrayScaleNameArray=[]\n",
    "imageGrayScaleArray=[]\n",
    "grayScaledirName='./grayScaleImage'\n",
    "\n",
    "grayScaleFileName='./grayScaleImageData.txt'\n",
    "grayScaleFile = open(grayScaleFileName, 'w')\n",
    "\n",
    "for index in range(imageArrayLength):\n",
    "    print(grayScaledirName+'/'+str(index+1)+'GrayScale.jpg',file=grayScaleFile)\n",
    "    imageGrayScaleNameArray.append(grayScaledirName+'/'+str(index+1)+'GrayScale.jpg')\n",
    "    imageGrayScale=cv2.cvtColor(cv2.imread(imageNameArray[index]),cv2.COLOR_BGR2GRAY) \n",
    "    imageGrayScaleArray.append(imageGrayScale) #儲存影像資料\n",
    "    cv2.imwrite(grayScaledirName+'/'+str(index+1)+'GrayScale.jpg',imageGrayScale)\n",
    "grayScaleFile.close()"
   ]
  },
  {
   "attachments": {},
   "cell_type": "markdown",
   "metadata": {},
   "source": [
    "# 剪裁成適當大小"
   ]
  },
  {
   "cell_type": "code",
   "execution_count": 4,
   "metadata": {},
   "outputs": [],
   "source": [
    "imageresizeImageNameArray=[]\n",
    "imageResizeArray=[]\n",
    "resizedirName='./resizeImage'\n",
    "\n",
    "resizeFileName='./resizeImageData.txt'\n",
    "resizeFile = open(resizeFileName, 'w')\n",
    "\n",
    "for index in range(imageArrayLength):\n",
    "    print(resizedirName+'/'+str(index+1)+'resize.jpg',file=resizeFile)\n",
    "    imageresizeImageNameArray.append(resizedirName+'/'+str(index+1)+'resize.jpg')\n",
    "    dim=(224,224)\n",
    "    imageCrop = cv2.resize(imageGrayScaleArray[index], dim, interpolation = cv2.INTER_AREA)\n",
    "    imageResizeArray.append(imageCrop) #儲存影像資料\n",
    "    cv2.imwrite(resizedirName+'/'+str(index+1)+'resize.jpg',imageCrop)\n",
    "    # print(imageCrop.shape)\n",
    "resizeFile.close()"
   ]
  },
  {
   "attachments": {},
   "cell_type": "markdown",
   "metadata": {},
   "source": [
    "# 一些取用圖像函數"
   ]
  },
  {
   "cell_type": "code",
   "execution_count": 5,
   "metadata": {},
   "outputs": [],
   "source": [
    "def getImageArray(dirName):\n",
    "    imageArray=[]\n",
    "    for imageName in os.listdir(dirName):\n",
    "        imageArray.append(cv2.imread(dirName+'/'+imageName))\n",
    "    return imageArray,len(imageArray)"
   ]
  },
  {
   "cell_type": "code",
   "execution_count": 6,
   "metadata": {},
   "outputs": [],
   "source": [
    "def getOriginalImageArray():\n",
    "    imageArray,imageArrayLength=getImageArray('./originImage')\n",
    "    return imageArray,imageArrayLength"
   ]
  },
  {
   "cell_type": "code",
   "execution_count": 7,
   "metadata": {},
   "outputs": [],
   "source": [
    "def getGrayScaleImageArray():\n",
    "    imageGrayScaleArray=[]\n",
    "    imageArray,imageArrayLength=getImageArray('./grayScaleImage')\n",
    "    for image in imageArray:\n",
    "        imageGrayScaleArray.append(cv2.cvtColor(image,cv2.COLOR_BGR2GRAY))\n",
    "    return imageGrayScaleArray,imageArrayLength"
   ]
  },
  {
   "cell_type": "code",
   "execution_count": 8,
   "metadata": {},
   "outputs": [],
   "source": [
    "def getResizeImageArray():\n",
    "    imageResizeArray=[]\n",
    "    imageArray,imageArrayLength=getImageArray('./resizeImage')\n",
    "    for image in imageArray:\n",
    "        imageResizeArray.append(cv2.cvtColor(image,cv2.COLOR_BGR2GRAY))\n",
    "    return imageResizeArray,imageArrayLength"
   ]
  }
 ],
 "metadata": {
  "kernelspec": {
   "display_name": "Python 3",
   "language": "python",
   "name": "python3"
  },
  "language_info": {
   "codemirror_mode": {
    "name": "ipython",
    "version": 3
   },
   "file_extension": ".py",
   "mimetype": "text/x-python",
   "name": "python",
   "nbconvert_exporter": "python",
   "pygments_lexer": "ipython3",
   "version": "3.11.2"
  },
  "orig_nbformat": 4
 },
 "nbformat": 4,
 "nbformat_minor": 2
}
