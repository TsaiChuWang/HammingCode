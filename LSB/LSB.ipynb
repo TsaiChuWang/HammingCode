{
 "cells": [
  {
   "attachments": {},
   "cell_type": "markdown",
   "metadata": {},
   "source": [
    "## Import package"
   ]
  },
  {
   "cell_type": "code",
   "execution_count": 1,
   "metadata": {},
   "outputs": [],
   "source": [
    "from PIL import Image\n",
    "import numpy as np\n",
    "from skimage import measure\n",
    "from skimage.metrics import structural_similarity as compare_ssim\n",
    "import codecs"
   ]
  },
  {
   "attachments": {},
   "cell_type": "markdown",
   "metadata": {},
   "source": [
    "# 獲取要隱藏的訊息\n",
    "\n",
    "1. 逐字讀取原始訊息\n",
    "2. 轉換為ascii碼\n",
    "3. ascii碼轉換為二進制(0bxxxxxxx)的字串\n",
    "4. replace()替換0b為空\n",
    "5. 七位數二進制填充為八位數"
   ]
  },
  {
   "cell_type": "code",
   "execution_count": 2,
   "metadata": {},
   "outputs": [],
   "source": [
    "# 讀取原始訊息\n",
    "def getOriginMessage(src):\n",
    "    originMessage=''\n",
    "    with open(src,\"rb\")  as file:\n",
    "        originMessage = file.read()\n",
    "        file.close()\n",
    "    originMessage = codecs.decode(originMessage, 'utf-8')\n",
    "    print(\"原始訊息為：\"+str(originMessage))\n",
    "    return originMessage"
   ]
  },
  {
   "cell_type": "code",
   "execution_count": 3,
   "metadata": {},
   "outputs": [
    {
     "name": "stdout",
     "output_type": "stream",
     "text": [
      "原始訊息為：NIU1112Cryptography\n"
     ]
    }
   ],
   "source": [
    "originMessage=getOriginMessage('../message/message.txt')"
   ]
  },
  {
   "cell_type": "code",
   "execution_count": 4,
   "metadata": {},
   "outputs": [],
   "source": [
    "#轉換為ascii碼\n",
    "def toAsciiMessage(originMessageChar):\n",
    "    ascii=ord(originMessageChar)\n",
    "    return ascii"
   ]
  },
  {
   "cell_type": "code",
   "execution_count": 5,
   "metadata": {},
   "outputs": [],
   "source": [
    "#ascii碼轉換為二進制(0bxxxxxxx)的字串\n",
    "def to0bBinaryMessage(ascii):\n",
    "    return str(bin(ascii))"
   ]
  },
  {
   "cell_type": "code",
   "execution_count": 6,
   "metadata": {},
   "outputs": [],
   "source": [
    "#replace()替換0b為空\n",
    "def replace0b(binString):\n",
    "    return binString.replace('0b','')"
   ]
  },
  {
   "cell_type": "code",
   "execution_count": 7,
   "metadata": {},
   "outputs": [],
   "source": [
    "#七位數二進制填充為八位數，原字串右對齊，前面填滿0\n",
    "def plus(string,digital): \n",
    "    return string.zfill(digital)"
   ]
  },
  {
   "cell_type": "code",
   "execution_count": 21,
   "metadata": {},
   "outputs": [],
   "source": [
    "binaryMessageArray=[]\n",
    "messageLength=len(originMessage)"
   ]
  },
  {
   "cell_type": "code",
   "execution_count": 24,
   "metadata": {},
   "outputs": [],
   "source": [
    "def getProcessedMessage(originMessage):\n",
    "    message=''\n",
    "    print('Origin Message= '+originMessage+', Length= '+str(len(originMessage)))\n",
    "    for char in originMessage:\n",
    "        binMess=plus(replace0b(to0bBinaryMessage(toAsciiMessage(char))),8)\n",
    "        binaryMessageArray.append(binMess)\n",
    "        message+=binMess\n",
    "    print('Processed Message= '+message+', Length= '+str(len(message)))\n",
    "    return message"
   ]
  },
  {
   "cell_type": "code",
   "execution_count": 25,
   "metadata": {},
   "outputs": [
    {
     "name": "stdout",
     "output_type": "stream",
     "text": [
      "Origin Message= NIU1112Cryptography, Length= 19\n",
      "Processed Message= 01001110010010010101010100110001001100010011000100110010010000110111001001111001011100000111010001101111011001110111001001100001011100000110100001111001, Length= 152\n"
     ]
    }
   ],
   "source": [
    "message=getProcessedMessage(originMessage)"
   ]
  }
 ],
 "metadata": {
  "kernelspec": {
   "display_name": "Python 3",
   "language": "python",
   "name": "python3"
  },
  "language_info": {
   "codemirror_mode": {
    "name": "ipython",
    "version": 3
   },
   "file_extension": ".py",
   "mimetype": "text/x-python",
   "name": "python",
   "nbconvert_exporter": "python",
   "pygments_lexer": "ipython3",
   "version": "3.9.2"
  },
  "orig_nbformat": 4
 },
 "nbformat": 4,
 "nbformat_minor": 2
}
